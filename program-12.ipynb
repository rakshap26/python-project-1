{
 "cells": [
  {
   "cell_type": "code",
   "execution_count": 1,
   "id": "dfac3ef2-a93e-49b3-842c-f6a3087a1947",
   "metadata": {},
   "outputs": [
    {
     "name": "stdout",
     "output_type": "stream",
     "text": [
      "Welcome to Zombie Dice Bot!\n",
      "Starting your turn. Roll 3 dice each time.\n",
      "Rolled: Footprint, Brain, Brain\n",
      "Brains collected: 2\n",
      "Shotguns received: 0\n"
     ]
    },
    {
     "name": "stdin",
     "output_type": "stream",
     "text": [
      "Roll again? (y/n):  3\n"
     ]
    },
    {
     "name": "stdout",
     "output_type": "stream",
     "text": [
      "Turn ended with 2 brains collected.\n",
      "\n",
      "Total brains collected so far: 2\n"
     ]
    },
    {
     "name": "stdin",
     "output_type": "stream",
     "text": [
      "Play another turn? (y/n):  \n"
     ]
    },
    {
     "name": "stdout",
     "output_type": "stream",
     "text": [
      "Game over! You collected a total of 2 brains.\n"
     ]
    }
   ],
   "source": [
    "#Name:-Raksha hepsibha \n",
    "#USN/SEC:-1AY24BT039/'N'\n",
    "#PROGRAM-12\n",
    "\n",
    "# zombie_dicebots.py\n",
    "\n",
    "import random\n",
    "\n",
    "def roll_die():\n",
    "    \"\"\"Roll one Zombie Dice die with faces: Brain, Footprint, Shotgun.\"\"\"\n",
    "    faces = ['Brain', 'Footprint', 'Shotgun']\n",
    "    return random.choice(faces)\n",
    "\n",
    "def roll_dice(num_dice=3):\n",
    "    \"\"\"Roll num_dice dice and return the results.\"\"\"\n",
    "    return [roll_die() for _ in range(num_dice)]\n",
    "\n",
    "def play_turn():\n",
    "    brains = 0\n",
    "    shotguns = 0\n",
    "    footprints = 0\n",
    "    turn_over = False\n",
    "\n",
    "    print(\"Starting your turn. Roll 3 dice each time.\")\n",
    "\n",
    "    while not turn_over:\n",
    "        roll_results = roll_dice()\n",
    "        print(f\"Rolled: {', '.join(roll_results)}\")\n",
    "\n",
    "        brains += roll_results.count('Brain')\n",
    "        shotguns += roll_results.count('Shotgun')\n",
    "        footprints = roll_results.count('Footprint')\n",
    "        print(f\"Brains collected: {brains}\")\n",
    "        print(f\"Shotguns received: {shotguns}\")\n",
    "\n",
    "        if shotguns >= 3:\n",
    "            print(\"You got shot 3 times! Turn over, no brains collected this turn.\")\n",
    "            brains = 0\n",
    "            turn_over = True\n",
    "            break\n",
    "\n",
    "        choice = input(\"Roll again? (y/n): \").strip().lower()\n",
    "        if choice != 'y':\n",
    "            turn_over = True\n",
    "\n",
    "    print(f\"Turn ended with {brains} brains collected.\\n\")\n",
    "    return brains\n",
    "\n",
    "def main():\n",
    "    total_brains = 0\n",
    "    print(\"Welcome to Zombie Dice Bot!\")\n",
    "    while True:\n",
    "        total_brains += play_turn()\n",
    "        print(f\"Total brains collected so far: {total_brains}\")\n",
    "        cont = input(\"Play another turn? (y/n): \").strip().lower()\n",
    "        if cont != 'y':\n",
    "            break\n",
    "    print(f\"Game over! You collected a total of {total_brains} brains.\")\n",
    "\n",
    "if __name__ == \"__main__\":\n",
    "    main()"
   ]
  },
  {
   "cell_type": "code",
   "execution_count": null,
   "id": "12e1756a-2fc4-4aef-aa4d-da35edca8628",
   "metadata": {},
   "outputs": [],
   "source": []
  }
 ],
 "metadata": {
  "kernelspec": {
   "display_name": "Python 3 (ipykernel)",
   "language": "python",
   "name": "python3"
  },
  "language_info": {
   "codemirror_mode": {
    "name": "ipython",
    "version": 3
   },
   "file_extension": ".py",
   "mimetype": "text/x-python",
   "name": "python",
   "nbconvert_exporter": "python",
   "pygments_lexer": "ipython3",
   "version": "3.12.7"
  }
 },
 "nbformat": 4,
 "nbformat_minor": 5
}
