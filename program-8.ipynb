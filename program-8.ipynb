{
 "cells": [
  {
   "cell_type": "code",
   "execution_count": 1,
   "id": "846793df-6356-46e1-9de6-04fe25043a90",
   "metadata": {},
   "outputs": [
    {
     "name": "stdin",
     "output_type": "stream",
     "text": [
      "Enter a word or string:  Dorry\n"
     ]
    },
    {
     "name": "stdout",
     "output_type": "stream",
     "text": [
      "D\n",
      "Do\n",
      "Dor\n",
      "Dorr\n",
      "Dorry\n"
     ]
    }
   ],
   "source": [
    "#Name:-Raksha hepsibha \n",
    "#USN/SEC:-1AY24BT039/'N'\n",
    "#PROGRAM-8\n",
    "\n",
    "# character_picture_grid.py\n",
    "\n",
    "def print_character_grid(word):\n",
    "    length = len(word)\n",
    "    for i in range(1, length + 1):\n",
    "        # Print first i characters of the word in a row\n",
    "        print(word[:i])\n",
    "\n",
    "if __name__ == \"__main__\":\n",
    "    input_word = input(\"Enter a word or string: \")\n",
    "    print_character_grid(input_word)"
   ]
  },
  {
   "cell_type": "code",
   "execution_count": null,
   "id": "f06441af-6d9c-48f1-a463-2dddb5208507",
   "metadata": {},
   "outputs": [],
   "source": []
  }
 ],
 "metadata": {
  "kernelspec": {
   "display_name": "Python 3 (ipykernel)",
   "language": "python",
   "name": "python3"
  },
  "language_info": {
   "codemirror_mode": {
    "name": "ipython",
    "version": 3
   },
   "file_extension": ".py",
   "mimetype": "text/x-python",
   "name": "python",
   "nbconvert_exporter": "python",
   "pygments_lexer": "ipython3",
   "version": "3.12.7"
  }
 },
 "nbformat": 4,
 "nbformat_minor": 5
}
