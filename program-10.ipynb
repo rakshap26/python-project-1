{
 "cells": [
  {
   "cell_type": "code",
   "execution_count": 1,
   "id": "f8823297-0fac-4670-b0ac-1f46ca03c135",
   "metadata": {},
   "outputs": [
    {
     "name": "stdout",
     "output_type": "stream",
     "text": [
      "Inventory:\n",
      "45 gold coin\n",
      "1 rope\n",
      "1 dagger\n",
      "1 ruby\n",
      "Total number of items: 48\n"
     ]
    }
   ],
   "source": [
    "#Name:-Raksha hepsibha \n",
    "#USN/SEC:-1AY24BT039/'N'\n",
    "#PROGRAM-10\n",
    "\n",
    "# fantasy_game_inventory.py\n",
    "\n",
    "def display_inventory(inventory):\n",
    "    print(\"Inventory:\")\n",
    "    total_items = 0\n",
    "    for item, count in inventory.items():\n",
    "        print(f\"{count} {item}\")\n",
    "        total_items += count\n",
    "    print(f\"Total number of items: {total_items}\")\n",
    "\n",
    "def add_to_inventory(inventory, added_items):\n",
    "    for item in added_items:\n",
    "        inventory[item] = inventory.get(item, 0) + 1\n",
    "    return inventory\n",
    "\n",
    "if __name__ == \"__main__\":\n",
    "    # Starting inventory\n",
    "    inventory = {'gold coin': 42, 'rope': 1}\n",
    "    \n",
    "    # Loot found\n",
    "    dragon_loot = ['gold coin', 'dagger', 'gold coin', 'gold coin', 'ruby']\n",
    "    \n",
    "    # Update inventory with loot\n",
    "    inventory = add_to_inventory(inventory, dragon_loot)\n",
    "    \n",
    "    # Display updated inventory\n",
    "    display_inventory(inventory)"
   ]
  },
  {
   "cell_type": "code",
   "execution_count": null,
   "id": "518bbb8f-3bd2-4fa3-9865-c846a4cadd82",
   "metadata": {},
   "outputs": [],
   "source": []
  }
 ],
 "metadata": {
  "kernelspec": {
   "display_name": "Python 3 (ipykernel)",
   "language": "python",
   "name": "python3"
  },
  "language_info": {
   "codemirror_mode": {
    "name": "ipython",
    "version": 3
   },
   "file_extension": ".py",
   "mimetype": "text/x-python",
   "name": "python",
   "nbconvert_exporter": "python",
   "pygments_lexer": "ipython3",
   "version": "3.12.7"
  }
 },
 "nbformat": 4,
 "nbformat_minor": 5
}
