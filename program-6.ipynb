{
 "cells": [
  {
   "cell_type": "code",
   "execution_count": 1,
   "id": "667609cc-bc57-459f-bd3d-7ce801f0f169",
   "metadata": {},
   "outputs": [
    {
     "name": "stdout",
     "output_type": "stream",
     "text": [
      "Original list: ['apple', 'watermelon,fruit', 'orange', 'grape\\\\vine']\n",
      "Encoded string: apple,watermelon\\,fruit,orange,grape\\vine\n",
      "Decoded list: ['apple', 'watermelon,fruit', 'orange', 'grape\\\\vine']\n",
      "Decoding matches original: True\n"
     ]
    },
    {
     "name": "stderr",
     "output_type": "stream",
     "text": [
      "<>:8: SyntaxWarning: invalid escape sequence '\\,'\n",
      "<>:16: SyntaxWarning: invalid escape sequence '\\,'\n",
      "<>:8: SyntaxWarning: invalid escape sequence '\\,'\n",
      "<>:16: SyntaxWarning: invalid escape sequence '\\,'\n",
      "C:\\Users\\raksh\\AppData\\Local\\Temp\\ipykernel_19312\\3728361682.py:8: SyntaxWarning: invalid escape sequence '\\,'\n",
      "  \"\"\"\n",
      "C:\\Users\\raksh\\AppData\\Local\\Temp\\ipykernel_19312\\3728361682.py:16: SyntaxWarning: invalid escape sequence '\\,'\n",
      "  \"\"\"\n"
     ]
    }
   ],
   "source": [
    "#Name:-Raksha hepsibha \n",
    "#USN/SEC:-1AY24BT039/'N'\n",
    "#PROGRAM-6\n",
    "\n",
    "# commacode.py\n",
    "\n",
    "def encode(items):\n",
    "    \"\"\"\n",
    "    Encodes a list of strings into a single comma-separated string.\n",
    "    Escapes commas in items by replacing them with '\\,'.\n",
    "    \"\"\"\n",
    "    escaped_items = [item.replace(',', r'\\,') for item in items]\n",
    "    return ','.join(escaped_items)\n",
    "\n",
    "def decode(encoded_str):\n",
    "    \"\"\"\n",
    "    Decodes a comma-separated string back into a list of strings.\n",
    "    Handles escaped commas '\\,' correctly.\n",
    "    \"\"\"\n",
    "    items = []\n",
    "    current = []\n",
    "    escape = False\n",
    "\n",
    "    for char in encoded_str:\n",
    "        if escape:\n",
    "            if char == ',':\n",
    "                current.append(',')\n",
    "            else:\n",
    "                current.append('\\\\' + char)\n",
    "            escape = False\n",
    "        elif char == '\\\\':\n",
    "            escape = True\n",
    "        elif char == ',':\n",
    "            items.append(''.join(current))\n",
    "            current = []\n",
    "        else:\n",
    "            current.append(char)\n",
    "    items.append(''.join(current))\n",
    "    return items\n",
    "\n",
    "if __name__ == \"__main__\":\n",
    "    \n",
    "    original_list = [\"apple\", \"watermelon,fruit\", \"orange\", \"grape\\\\vine\"]\n",
    "    print(\"Original list:\", original_list)\n",
    "\n",
    "    encoded = encode(original_list)\n",
    "    print(\"Encoded string:\", encoded)\n",
    "\n",
    "    decoded = decode(encoded)\n",
    "    print(\"Decoded list:\", decoded)\n",
    "\n",
    "    \n",
    "    print(\"Decoding matches original:\", decoded == original_list)"
   ]
  },
  {
   "cell_type": "code",
   "execution_count": null,
   "id": "6fd5da41-3a84-4dc1-a762-5c29eb196565",
   "metadata": {},
   "outputs": [],
   "source": []
  }
 ],
 "metadata": {
  "kernelspec": {
   "display_name": "Python 3 (ipykernel)",
   "language": "python",
   "name": "python3"
  },
  "language_info": {
   "codemirror_mode": {
    "name": "ipython",
    "version": 3
   },
   "file_extension": ".py",
   "mimetype": "text/x-python",
   "name": "python",
   "nbconvert_exporter": "python",
   "pygments_lexer": "ipython3",
   "version": "3.12.7"
  }
 },
 "nbformat": 4,
 "nbformat_minor": 5
}
