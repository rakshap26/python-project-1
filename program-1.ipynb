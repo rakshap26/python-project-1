{
 "cells": [
  {
   "cell_type": "code",
   "execution_count": 1,
   "id": "928a1670-9773-4040-9402-23569df8e41f",
   "metadata": {},
   "outputs": [
    {
     "name": "stdout",
     "output_type": "stream",
     "text": [
      "Welcome to Guess the Number!\n",
      "I'm thinking of a number between 1 and 5.\n"
     ]
    },
    {
     "name": "stdin",
     "output_type": "stream",
     "text": [
      "Take a guess:  4\n"
     ]
    },
    {
     "name": "stdout",
     "output_type": "stream",
     "text": [
      "Too low! Try again.\n"
     ]
    },
    {
     "name": "stdin",
     "output_type": "stream",
     "text": [
      "Take a guess:  1\n"
     ]
    },
    {
     "name": "stdout",
     "output_type": "stream",
     "text": [
      "Too low! Try again.\n"
     ]
    },
    {
     "name": "stdin",
     "output_type": "stream",
     "text": [
      "Take a guess:  2\n"
     ]
    },
    {
     "name": "stdout",
     "output_type": "stream",
     "text": [
      "Too low! Try again.\n"
     ]
    },
    {
     "name": "stdin",
     "output_type": "stream",
     "text": [
      "Take a guess:  3\n"
     ]
    },
    {
     "name": "stdout",
     "output_type": "stream",
     "text": [
      "Too low! Try again.\n"
     ]
    },
    {
     "name": "stdin",
     "output_type": "stream",
     "text": [
      "Take a guess:  5\n"
     ]
    },
    {
     "name": "stdout",
     "output_type": "stream",
     "text": [
      "Congratulations! You guessed the number in 5 attempts.\n"
     ]
    }
   ],
   "source": [
    "#Name:-Raksha hepsibha \n",
    "#USN/SEC:-1AY24BT039/'N'\n",
    "#PROGRAM-1\n",
    "\n",
    "# guessthe_number.py\n",
    "\n",
    "import random\n",
    "\n",
    "def guess_the_number():\n",
    "    print(\"Welcome to Guess the Number!\")\n",
    "    print(\"I'm thinking of a number between 1 and 5.\")\n",
    "    \n",
    "    number_to_guess = random.randint(1,5)\n",
    "    attempts = 0\n",
    "    \n",
    "    while True:\n",
    "        try:\n",
    "            guess = int(input(\"Take a guess: \"))\n",
    "            attempts += 1\n",
    "            \n",
    "            if guess < 1 or guess > 5:\n",
    "                print(\"Please guess a number between 1 and 5.\")\n",
    "                continue\n",
    "            \n",
    "            if guess < number_to_guess:\n",
    "                print(\"Too low! Try again.\")\n",
    "            elif guess > number_to_guess:\n",
    "                print(\"Too high! Try again.\")\n",
    "            else:\n",
    "                print(f\"Congratulations! You guessed the number in {attempts} attempts.\")\n",
    "                break\n",
    "        except ValueError:\n",
    "            print(\"Invalid input. Please enter an integer.\")\n",
    "            \n",
    "if __name__ == \"__main__\":\n",
    "    guess_the_number()"
   ]
  },
  {
   "cell_type": "code",
   "execution_count": 12,
   "id": "db8f9a61-9dd4-44ac-8d8f-b59e0c55d43c",
   "metadata": {},
   "outputs": [
    {
     "name": "stdout",
     "output_type": "stream",
     "text": [
      "Welcome to Zombie Dice Bot!\n",
      "Starting your turn. Roll 3 dice each time.\n",
      "Rolled: Shotgun, Footprint, Shotgun\n",
      "Brains collected: 0\n",
      "Shotguns received: 2\n"
     ]
    },
    {
     "name": "stdin",
     "output_type": "stream",
     "text": [
      "Roll again? (y/n):  4\n"
     ]
    },
    {
     "name": "stdout",
     "output_type": "stream",
     "text": [
      "Turn ended with 0 brains collected.\n",
      "\n",
      "Total brains collected so far: 0\n"
     ]
    },
    {
     "name": "stdin",
     "output_type": "stream",
     "text": [
      "Play another turn? (y/n):  5\n"
     ]
    },
    {
     "name": "stdout",
     "output_type": "stream",
     "text": [
      "Game over! You collected a total of 0 brains.\n"
     ]
    }
   ],
   "source": [
    "#Name:-Raksha hepsibha \n",
    "#USN/SEC:-1AY24BT039/'N'\n",
    "#PROGRAM-12\n",
    "\n",
    "# zombie_dicebots.py\n",
    "\n",
    "import random\n",
    "\n",
    "def roll_die():\n",
    "    \"\"\"Roll one Zombie Dice die with faces: Brain, Footprint, Shotgun.\"\"\"\n",
    "    faces = ['Brain', 'Footprint', 'Shotgun']\n",
    "    return random.choice(faces)\n",
    "\n",
    "def roll_dice(num_dice=3):\n",
    "    \"\"\"Roll num_dice dice and return the results.\"\"\"\n",
    "    return [roll_die() for _ in range(num_dice)]\n",
    "\n",
    "def play_turn():\n",
    "    brains = 0\n",
    "    shotguns = 0\n",
    "    footprints = 0\n",
    "    turn_over = False\n",
    "\n",
    "    print(\"Starting your turn. Roll 3 dice each time.\")\n",
    "\n",
    "    while not turn_over:\n",
    "        roll_results = roll_dice()\n",
    "        print(f\"Rolled: {', '.join(roll_results)}\")\n",
    "\n",
    "        brains += roll_results.count('Brain')\n",
    "        shotguns += roll_results.count('Shotgun')\n",
    "        footprints = roll_results.count('Footprint')\n",
    "\n",
    "        print(f\"Brains collected: {brains}\")\n",
    "        print(f\"Shotguns received: {shotguns}\")\n",
    "\n",
    "        if shotguns >= 3:\n",
    "            print(\"You got shot 3 times! Turn over, no brains collected this turn.\")\n",
    "            brains = 0\n",
    "            turn_over = True\n",
    "            break\n",
    "\n",
    "        choice = input(\"Roll again? (y/n): \").strip().lower()\n",
    "        if choice != 'y':\n",
    "            turn_over = True\n",
    "\n",
    "    print(f\"Turn ended with {brains} brains collected.\\n\")\n",
    "    return brains\n",
    "\n",
    "def main():\n",
    "    total_brains = 0\n",
    "    print(\"Welcome to Zombie Dice Bot!\")\n",
    "    while True:\n",
    "        total_brains += play_turn()\n",
    "        print(f\"Total brains collected so far: {total_brains}\")\n",
    "        cont = input(\"Play another turn? (y/n): \").strip().lower()\n",
    "        if cont != 'y':\n",
    "            break\n",
    "    print(f\"Game over! You collected a total of {total_brains} brains.\")\n",
    "\n",
    "if __name__ == \"__main__\":\n",
    "    main()"
   ]
  },
  {
   "cell_type": "code",
   "execution_count": null,
   "id": "3f807281-4eff-42f5-ab45-97a64f50d25e",
   "metadata": {},
   "outputs": [],
   "source": []
  }
 ],
 "metadata": {
  "kernelspec": {
   "display_name": "Python 3 (ipykernel)",
   "language": "python",
   "name": "python3"
  },
  "language_info": {
   "codemirror_mode": {
    "name": "ipython",
    "version": 3
   },
   "file_extension": ".py",
   "mimetype": "text/x-python",
   "name": "python",
   "nbconvert_exporter": "python",
   "pygments_lexer": "ipython3",
   "version": "3.12.7"
  }
 },
 "nbformat": 4,
 "nbformat_minor": 5
}
