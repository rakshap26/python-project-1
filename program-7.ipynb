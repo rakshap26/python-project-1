{
 "cells": [
  {
   "cell_type": "code",
   "execution_count": 1,
   "id": "b80ebb37-b749-40c4-b9cf-b181a944e80f",
   "metadata": {},
   "outputs": [
    {
     "name": "stdin",
     "output_type": "stream",
     "text": [
      "Enter number of coin flips:  5\n"
     ]
    },
    {
     "name": "stdout",
     "output_type": "stream",
     "text": [
      "Flips sequence:\n",
      "Tails Heads Heads Heads Tails\n",
      "Longest streak of same outcome: 3\n"
     ]
    }
   ],
   "source": [
    "#Name:-Raksha hepsibha \n",
    "#USN/SEC:-1AY24BT039/'N'\n",
    "#PROGRAM-7\n",
    "\n",
    "# coin_flips_streaks.py\n",
    "\n",
    "import random\n",
    "\n",
    "def flip_coin():\n",
    "    return random.choice(['Heads', 'Tails'])\n",
    "\n",
    "def longest_streak(flips):\n",
    "    max_streak = 1\n",
    "    current_streak = 1\n",
    "    for i in range(1, len(flips)):\n",
    "        if flips[i] == flips[i-1]:\n",
    "            current_streak += 1\n",
    "        else:\n",
    "            max_streak = max(max_streak, current_streak)\n",
    "            current_streak = 1\n",
    "    max_streak = max(max_streak, current_streak)\n",
    "    return max_streak\n",
    "\n",
    "def main():\n",
    "    num_flips = int(input(\"Enter number of coin flips: \"))\n",
    "    flips = []\n",
    "\n",
    "    for _ in range(num_flips):\n",
    "        flips.append(flip_coin())\n",
    "\n",
    "    print(\"Flips sequence:\")\n",
    "    print(' '.join(flips))\n",
    "\n",
    "    streak = longest_streak(flips)\n",
    "    print(f\"Longest streak of same outcome: {streak}\")\n",
    "\n",
    "if __name__ == \"__main__\":\n",
    "    main()"
   ]
  },
  {
   "cell_type": "code",
   "execution_count": null,
   "id": "956767c1-c8c3-472d-a363-5d0ef8fbbf22",
   "metadata": {},
   "outputs": [],
   "source": []
  }
 ],
 "metadata": {
  "kernelspec": {
   "display_name": "Python 3 (ipykernel)",
   "language": "python",
   "name": "python3"
  },
  "language_info": {
   "codemirror_mode": {
    "name": "ipython",
    "version": 3
   },
   "file_extension": ".py",
   "mimetype": "text/x-python",
   "name": "python",
   "nbconvert_exporter": "python",
   "pygments_lexer": "ipython3",
   "version": "3.12.7"
  }
 },
 "nbformat": 4,
 "nbformat_minor": 5
}
