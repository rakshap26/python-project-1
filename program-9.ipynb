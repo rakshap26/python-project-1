{
 "cells": [
  {
   "cell_type": "code",
   "execution_count": 1,
   "id": "fedaf1df-54b4-4dda-be30-4e12840cc618",
   "metadata": {},
   "outputs": [
    {
     "name": "stdout",
     "output_type": "stream",
     "text": [
      "The chess board is valid.\n"
     ]
    }
   ],
   "source": [
    "#Name:-Raksha hepsibha \n",
    "#USN/SEC:-1AY24BT039/'N'\n",
    "#PROGRAM-9\n",
    "\n",
    "# chess_dictionary_validator.py\n",
    "\n",
    "def is_valid_position(pos):\n",
    "    \"\"\"Check if a board position like '1a' is valid.\"\"\"\n",
    "    if len(pos) != 2:\n",
    "        return False\n",
    "    row, col = pos\n",
    "    return row in '12345678' and col in 'abcdefgh'\n",
    "\n",
    "def is_valid_piece(piece):\n",
    "    \"\"\"Check if a piece name is valid.\"\"\"\n",
    "    valid_pieces = [\n",
    "        'wking', 'wqueen', 'wbishop', 'wknight', 'wrook', 'wpawn',\n",
    "        'bking', 'bqueen', 'bbishop', 'bknight', 'brook', 'bpawn'\n",
    "    ]\n",
    "    return piece in valid_pieces\n",
    "\n",
    "def count_pieces(board):\n",
    "    \"\"\"Count pieces for each type.\"\"\"\n",
    "    counts = {}\n",
    "    for piece in board.values():\n",
    "        counts[piece] = counts.get(piece, 0) + 1\n",
    "    return counts\n",
    "\n",
    "def validate_chess_board(board):\n",
    "    \"\"\"Validate the chess board dictionary.\"\"\"\n",
    "    # Check positions and pieces\n",
    "    for pos, piece in board.items():\n",
    "        if not is_valid_position(pos):\n",
    "            print(f\"Invalid position: {pos}\")\n",
    "            return False\n",
    "        if not is_valid_piece(piece):\n",
    "            print(f\"Invalid piece: {piece}\")\n",
    "            return False\n",
    "\n",
    "    # Count pieces\n",
    "    counts = count_pieces(board)\n",
    "\n",
    "    # Piece limits\n",
    "    piece_limits = {\n",
    "        'wking': 1, 'bking': 1,\n",
    "        'wqueen': 1, 'bqueen': 1,\n",
    "        'wrook': 2, 'brook': 2,\n",
    "        'wbishop': 2, 'bbishop': 2,\n",
    "        'wknight': 2, 'bknight': 2,\n",
    "        'wpawn': 8, 'bpawn': 8\n",
    "    }\n",
    "    for piece, limit in piece_limits.items():\n",
    "        if counts.get(piece, 0) > limit:\n",
    "            print(f\"Too many {piece}s: {counts[piece]} (max {limit})\")\n",
    "            return False\n",
    "\n",
    "    # No duplicate positions (dictionary keys are unique)\n",
    "    if len(board) > 64:\n",
    "        print(\"Too many pieces on the board.\")\n",
    "        return False\n",
    "\n",
    "    print(\"The chess board is valid.\")\n",
    "    return True\n",
    "\n",
    "if __name__ == \"__main__\":\n",
    "    # Example board\n",
    "    chess_board = {\n",
    "        '1h': 'bking',\n",
    "        '6c': 'wqueen',\n",
    "        '2g': 'bbishop',\n",
    "        '5h': 'bqueen',\n",
    "        '3e': 'wking',\n",
    "        '2b': 'wrook',\n",
    "        '2h': 'bknight',\n",
    "        '1e': 'bbishop'\n",
    "    }\n",
    "    validate_chess_board(chess_board)\n"
   ]
  },
  {
   "cell_type": "code",
   "execution_count": null,
   "id": "a9c967c8-08f5-4a3c-80bc-b28ac87a8a04",
   "metadata": {},
   "outputs": [],
   "source": []
  }
 ],
 "metadata": {
  "kernelspec": {
   "display_name": "Python 3 (ipykernel)",
   "language": "python",
   "name": "python3"
  },
  "language_info": {
   "codemirror_mode": {
    "name": "ipython",
    "version": 3
   },
   "file_extension": ".py",
   "mimetype": "text/x-python",
   "name": "python",
   "nbconvert_exporter": "python",
   "pygments_lexer": "ipython3",
   "version": "3.12.7"
  }
 },
 "nbformat": 4,
 "nbformat_minor": 5
}
