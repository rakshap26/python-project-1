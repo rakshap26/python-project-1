{
 "cells": [
  {
   "cell_type": "code",
   "execution_count": 1,
   "id": "26150525-0b13-4c89-bc74-4586af7586d0",
   "metadata": {},
   "outputs": [
    {
     "name": "stdout",
     "output_type": "stream",
     "text": [
      "Converted string: HYTAR OTRRPE\n"
     ]
    }
   ],
   "source": [
    "#Name:-Raksha hepsibha \n",
    "#USN/SEC:-1AY24BT039/'N'\n",
    "#PROGRAM-3\n",
    "# zigzag.py\n",
    "\n",
    "def convert(s: str, num_rows: int) -> str:\n",
    "    if num_rows == 1 or num_rows >= len(s):\n",
    "        return s\n",
    "\n",
    "    rows = [''] * num_rows\n",
    "    step = -1\n",
    "    curr_row = 0\n",
    "\n",
    "    for char in s:\n",
    "        rows[curr_row] += char\n",
    "        if curr_row == 0 or curr_row == num_rows - 1:\n",
    "            step = -step\n",
    "        curr_row += step\n",
    "\n",
    "    return ''.join(rows)\n",
    "\n",
    "\n",
    "if __name__ == \"__main__\":\n",
    "    input_string = \"HARRY POTTER\"\n",
    "    num_rows = 3\n",
    "    result = convert(input_string, num_rows)\n",
    "    print(f\"Converted string: {result}\")  "
   ]
  },
  {
   "cell_type": "code",
   "execution_count": null,
   "id": "2d017912-c1b9-4cb0-acde-3df7a0210fde",
   "metadata": {},
   "outputs": [],
   "source": []
  }
 ],
 "metadata": {
  "kernelspec": {
   "display_name": "Python 3 (ipykernel)",
   "language": "python",
   "name": "python3"
  },
  "language_info": {
   "codemirror_mode": {
    "name": "ipython",
    "version": 3
   },
   "file_extension": ".py",
   "mimetype": "text/x-python",
   "name": "python",
   "nbconvert_exporter": "python",
   "pygments_lexer": "ipython3",
   "version": "3.12.7"
  }
 },
 "nbformat": 4,
 "nbformat_minor": 5
}
